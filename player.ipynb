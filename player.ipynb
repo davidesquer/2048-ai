{
 "cells": [
  {
   "cell_type": "code",
   "execution_count": 1,
   "metadata": {},
   "outputs": [],
   "source": [
    "import logic\n",
    "\n",
    "from selenium import webdriver\n",
    "from selenium.webdriver.common.keys import Keys\n",
    "from selenium.webdriver.common.by import By\n",
    "from selenium.webdriver.support.ui import WebDriverWait\n",
    "\n",
    "import random\n",
    "import numpy as np\n",
    "\n",
    "import os\n",
    "import time"
   ]
  },
  {
   "cell_type": "code",
   "execution_count": 2,
   "metadata": {},
   "outputs": [],
   "source": [
    "def juego(depth): #funcion que juega 2048\n",
    "    current_username = os.getlogin() #obtiene el nombre de usuario de la computadora\n",
    "\n",
    "    driver_path_mac = \"Users/davidesquer/Documents/chromedriverfolder/chromedrive\"  #direccion del driver de chrome\n",
    "    driver_path_windows = \"C:/Users/David/Downloads/chromedriver_win32/chromedriver.exe\" #direccion del driver de chrome\n",
    "\n",
    "    if current_username == \"David\": #checa si el nombre de usuario es David\n",
    "        driver_path = driver_path_windows #si es David, usa la direccion del driver de chrome para windows\n",
    "    else:\n",
    "        driver_path = driver_path_mac #si no es David, usa la direccion del driver de chrome para mac\n",
    "\n",
    "    driver = webdriver.Chrome(executable_path=driver_path) #abre el navegador\n",
    "    driver.get(\"https://2048.io\") #abre el juego\n",
    "\n",
    "    moves = {\"up\": Keys.UP, \"right\": Keys.RIGHT, \"down\": Keys.DOWN, \"left\": Keys.LEFT} #diccionario de movimientos posibles\n",
    "\n",
    "    while True: #loop infinito, hasta que el juego termine\n",
    "        l1 = []\n",
    "        js_code = \"\"\"\n",
    "        var elements = document.querySelectorAll(\".tile\");\n",
    "        var classNames = [];\n",
    "        for (var i = 0; i < elements.length; i++) {\n",
    "            classNames.push(elements[i].className);\n",
    "        }\n",
    "        return classNames;\n",
    "        \"\"\"\n",
    "        class_names = driver.execute_script(js_code)\n",
    "        for i in class_names:\n",
    "            l1.append(i.split(\" \"))\n",
    "            \n",
    "        board = np.array([[0,0,0,0], [0,0,0,0], [0,0,0,0], [0,0,0,0]]) #matriz que contiene el estado del juego actual en ceros\n",
    "        for i in range(len(l1)): #loop sobre el estado del juego actual\n",
    "            value = int(l1[i][1].split(\"-\")[1]) #valor de la casilla\n",
    "\n",
    "            col = int(l1[i][2].split(\"-\")[2])-1 #columna de la casilla\n",
    "            row = int(l1[i][2].split(\"-\")[3])-1 #fila de la casilla\n",
    "\n",
    "            if board[row][col] < value: #si el valor de la casilla es mayor al valor de la casilla en la matriz, se actualiza el valor de la casilla en la matriz\n",
    "                board[row][col] = value #actualiza el valor de la casilla en la matriz\n",
    "        \n",
    "        elements = driver.find_elements(By.CSS_SELECTOR, \".game-message\") #elemento de mensaje de juego\n",
    "\n",
    "        if elements[0].text == \"Game over!\\nTry again\": #si el juego termina, se rompe el loop\n",
    "            break\n",
    "        else:\n",
    "            move = logic.best_move(board, depth) #mejor movimiento que se puede realizar\n",
    "            game_element = driver.find_element(By.TAG_NAME, \"body\") #elemento para mandar los movimientos\n",
    "            game_element.send_keys(moves[move]) #ejecuta el movimiento elegido\n",
    "        \n",
    "    driver.close() #cierra el navegador"
   ]
  },
  {
   "cell_type": "code",
   "execution_count": 5,
   "metadata": {},
   "outputs": [
    {
     "ename": "KeyError",
     "evalue": "None",
     "output_type": "error",
     "traceback": [
      "\u001b[1;31m---------------------------------------------------------------------------\u001b[0m",
      "\u001b[1;31mKeyError\u001b[0m                                  Traceback (most recent call last)",
      "Cell \u001b[1;32mIn[5], line 1\u001b[0m\n\u001b[1;32m----> 1\u001b[0m juego(\u001b[39m5\u001b[39;49m)\n",
      "Cell \u001b[1;32mIn[2], line 48\u001b[0m, in \u001b[0;36mjuego\u001b[1;34m(depth)\u001b[0m\n\u001b[0;32m     46\u001b[0m         move \u001b[39m=\u001b[39m logic\u001b[39m.\u001b[39mbest_move(board, depth) \u001b[39m#mejor movimiento que se puede realizar\u001b[39;00m\n\u001b[0;32m     47\u001b[0m         game_element \u001b[39m=\u001b[39m driver\u001b[39m.\u001b[39mfind_element(By\u001b[39m.\u001b[39mTAG_NAME, \u001b[39m\"\u001b[39m\u001b[39mbody\u001b[39m\u001b[39m\"\u001b[39m) \u001b[39m#elemento para mandar los movimientos\u001b[39;00m\n\u001b[1;32m---> 48\u001b[0m         game_element\u001b[39m.\u001b[39msend_keys(moves[move]) \u001b[39m#ejecuta el movimiento elegido\u001b[39;00m\n\u001b[0;32m     50\u001b[0m driver\u001b[39m.\u001b[39mclose()\n",
      "\u001b[1;31mKeyError\u001b[0m: None"
     ]
    }
   ],
   "source": [
    "juego(5)"
   ]
  },
  {
   "cell_type": "code",
   "execution_count": null,
   "metadata": {},
   "outputs": [],
   "source": []
  }
 ],
 "metadata": {
  "kernelspec": {
   "display_name": "base",
   "language": "python",
   "name": "python3"
  },
  "language_info": {
   "codemirror_mode": {
    "name": "ipython",
    "version": 3
   },
   "file_extension": ".py",
   "mimetype": "text/x-python",
   "name": "python",
   "nbconvert_exporter": "python",
   "pygments_lexer": "ipython3",
   "version": "3.10.9"
  },
  "orig_nbformat": 4
 },
 "nbformat": 4,
 "nbformat_minor": 2
}
