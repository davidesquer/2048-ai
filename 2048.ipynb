{
 "cells": [
  {
   "cell_type": "code",
   "execution_count": 48,
   "metadata": {},
   "outputs": [],
   "source": [
    "from selenium import webdriver\n",
    "from selenium.webdriver.common.keys import Keys\n",
    "from selenium.webdriver.common.by import By\n",
    "\n",
    "import random\n",
    "import numpy as np\n",
    "\n",
    "import os\n",
    "import time\n",
    "\n",
    "import tensorflow as tf\n",
    "from tensorflow.keras.models import Sequential\n",
    "from tensorflow.keras.layers import Conv2D, Flatten, Dense, Softmax\n",
    "from sklearn.model_selection import train_test_split"
   ]
  },
  {
   "attachments": {},
   "cell_type": "markdown",
   "metadata": {},
   "source": [
    "### Genera training data"
   ]
  },
  {
   "cell_type": "code",
   "execution_count": 49,
   "metadata": {},
   "outputs": [],
   "source": [
    "moves_converter = {\"\\ue012\": \"left\", \"\\ue013\": \"up\", \"\\ue014\": \"right\", \"\\ue015\": \"down\"}"
   ]
  },
  {
   "cell_type": "code",
   "execution_count": 57,
   "metadata": {},
   "outputs": [],
   "source": [
    "def juego(): #funcion que juega 2048\n",
    "    current_username = os.getlogin() #obtiene el nombre de usuario de la computadora\n",
    "\n",
    "    driver_path_mac = \"Users/davidesquer/Documents/chromedriverfolder/chromedrive\"  #direccion del driver de chrome\n",
    "    driver_path_windows = \"C:/Users/David/Downloads/chromedriver_win32/chromedriver.exe\" #direccion del driver de chrome\n",
    "\n",
    "    if current_username == \"David\": #checa si el nombre de usuario es David\n",
    "        driver_path = driver_path_windows #si es David, usa la direccion del driver de chrome para windows\n",
    "    else:\n",
    "        driver_path = driver_path_mac #si no es David, usa la direccion del driver de chrome para mac\n",
    "\n",
    "    browser = webdriver.Chrome(executable_path=driver_path) #abre el navegador\n",
    "    #options = webdriver.ChromeOptions()\n",
    "    #options.add_argument(\"--headless\")\n",
    "    #options.add_argument(\"--incognito\")\n",
    "    browser.get(\"https://2048.io\") #abre el juego\n",
    "    time.sleep(2) #espera 5 segundos\n",
    "\n",
    "    game_element = browser.find_element(By.TAG_NAME, \"body\") #elemento para mandar los movimientos\n",
    "\n",
    "    # Define the possible moves\n",
    "    moves = [Keys.UP, Keys.RIGHT, Keys.DOWN, Keys.LEFT] #lista de movimientos posibles\n",
    "\n",
    "    score1 = browser.find_elements(By.XPATH, \"/html/body/div/div[1]/div/div[1]\") #elemento de score inicial\n",
    "    si = score1[0].text #texto de score inicial\n",
    "    si = si.split(\"\\n\")[0] #parsed score inicial\n",
    "\n",
    "    tablas_total = [] #lista de todas las tablas de juego\n",
    "    movimientos_total = [] #lista de todos los movimientos\n",
    "    performances_total = [] #lista de todos los incrementos de score\n",
    "\n",
    "    while True: #loop infinito, hasta que el juego termine\n",
    "        l1 = [] #lista que contiene el estado del juego actual\n",
    "        tiles = browser.find_elements(By.CSS_SELECTOR, \".tile\") #estado del juego actual\n",
    "        for tile in tiles: #loop sobre el estado del juego actual\n",
    "            l1.append(tile.get_attribute(\"class\").split()) #agrega el estado del juego actual a la lista l1\n",
    "            \n",
    "        board = np.array([[0,0,0,0], [0,0,0,0], [0,0,0,0], [0,0,0,0]]) #matriz que contiene el estado del juego actual en ceros\n",
    "        for i in range(len(l1)): #loop sobre el estado del juego actual\n",
    "            value = int(l1[i][1].split(\"-\")[1]) #valor de la casilla\n",
    "\n",
    "            col = int(l1[i][2].split(\"-\")[2])-1 #columna de la casilla\n",
    "            row = int(l1[i][2].split(\"-\")[3])-1 #fila de la casilla\n",
    "\n",
    "            if board[row][col] < value: #si el valor de la casilla es mayor al valor de la casilla en la matriz, se actualiza el valor de la casilla en la matriz\n",
    "                board[row][col] = value #actualiza el valor de la casilla en la matriz\n",
    "        \n",
    "        elements = browser.find_elements(By.CSS_SELECTOR, \".game-message\") #elemento de mensaje de juego\n",
    "        elements[0].text #texto de mensaje de juego\n",
    "\n",
    "        if elements[0].text == \"Game over!\\nTry again\": #si el juego termina, se rompe el loop\n",
    "            break\n",
    "        else:\n",
    "            move = random.choice(moves) #elige un movimiento al azar\n",
    "            game_element.send_keys(move) #ejecuta el movimiento elegido\n",
    "            time.sleep(0.001)\n",
    "        \n",
    "        score = browser.find_elements(By.XPATH, \"/html/body/div/div[1]/div/div[1]\") #elemento de score final\n",
    "        sf = score[0].text #texto de score final\n",
    "        sf = sf.split(\"\\n\")[0] #parsed score final\n",
    "        \n",
    "        if len(tablas_total) == 0:\n",
    "            lista = [board, move, (board.max()*board.sum())] #lista que contiene el estado del juego, el movimiento, y el incremento del score\n",
    "            lista[1] = moves_converter[lista[1]] #convierte el movimiento a texto\n",
    "        else:\n",
    "            lista = [board, move, (board.max()*board.sum()) - (tablas_total[-1].sum()*tablas_total[-1].max())]\n",
    "            lista[1] = moves_converter[lista[1]] #convierte el movimiento a texto\n",
    "\n",
    "        tablas_total.append(board) #agrega a la lista las tablas de juego\n",
    "        movimientos_total.append(lista[1]) #agrega a la lista los movimientos\n",
    "        performances_total.append(lista[2]) #agrega a la lista los incrementos de score\n",
    "\n",
    "    browser.close() #cierra el navegador\n",
    "\n",
    "    return [tablas_total, movimientos_total, performances_total] #regresa la lista del juego completo"
   ]
  },
  {
   "cell_type": "code",
   "execution_count": null,
   "metadata": {},
   "outputs": [],
   "source": [
    "tbl_tot = []\n",
    "mov_tot = []\n",
    "perf_tot = []\n",
    "\n",
    "for i in range(100):\n",
    "    d = juego()\n",
    "    tablas_total = d[0]\n",
    "    movimientos_total = d[1]\n",
    "    performances_total = d[2]\n",
    "\n",
    "    tbl_tot = tbl_tot + tablas_total\n",
    "    mov_tot = mov_tot + movimientos_total\n",
    "    perf_tot = perf_tot + performances_total\n",
    "    print(i)"
   ]
  },
  {
   "attachments": {},
   "cell_type": "markdown",
   "metadata": {},
   "source": [
    "### Entrenamiento del modelo"
   ]
  },
  {
   "cell_type": "code",
   "execution_count": null,
   "metadata": {},
   "outputs": [],
   "source": [
    "# Preprocess the dataset\n",
    "def preprocess_data(board_states, moves, performances):\n",
    "    # Encode board states as logarithm base 2 and normalize\n",
    "    board_states = np.log2(np.maximum(board_states, 1)) / np.log2(2048)\n",
    "    board_states = np.expand_dims(board_states, axis=-1)  # Add channel dimension for CNN\n",
    "    \n",
    "    # Map moves to integers\n",
    "    move_mapping = {'up': 0, 'down': 1, 'left': 2, 'right': 3}\n",
    "    moves = np.array([move_mapping[move] for move in moves])\n",
    "\n",
    "    # One-hot encode moves\n",
    "    moves = tf.keras.utils.to_categorical(moves, num_classes=4)\n",
    "    \n",
    "    return board_states, moves, performances\n",
    "\n",
    "# Load your dataset\n",
    "# X: board states, y_move: moves, y_performance: move performances\n",
    "X, y_move, y_performance = tbl_tot, mov_tot, perf_tot\n",
    "\n",
    "# Preprocess the dataset\n",
    "X, y_move, y_performance = preprocess_data(X, y_move, y_performance)\n",
    "\n",
    "# Split the dataset into training and validation sets\n",
    "X_train, X_val, y_train, y_val, w_train, w_val = train_test_split(X, y_move, y_performance, test_size=0.2, random_state=42)\n",
    "\n",
    "# Create the neural network model\n",
    "model = Sequential([\n",
    "    Conv2D(64, kernel_size=(3, 3), activation='relu', padding='same', input_shape=(4, 4, 1)),\n",
    "    Conv2D(128, kernel_size=(2, 2), activation='relu', padding='same'),\n",
    "    Flatten(),\n",
    "    Dense(256, activation='relu'),\n",
    "    Dense(4, activation='softmax')\n",
    "])\n",
    "\n",
    "# Compile the model\n",
    "optimizer = tf.keras.optimizers.Adam()\n",
    "model.compile(optimizer=optimizer, loss=tf.keras.losses.CategoricalCrossentropy(), metrics=['accuracy'])\n",
    "\n",
    "# Custom sample_weight for the performance of each move\n",
    "sample_weight = w_train / np.max(w_train)\n",
    "\n",
    "# Train the model\n",
    "history = model.fit(X_train, y_train, validation_data=(X_val, y_val), batch_size=32, epochs=100, sample_weight=sample_weight)\n",
    "\n",
    "# Save the model\n",
    "model.save('2048_model.h5')"
   ]
  },
  {
   "attachments": {},
   "cell_type": "markdown",
   "metadata": {},
   "source": [
    "### Test del modelo"
   ]
  },
  {
   "cell_type": "code",
   "execution_count": 7,
   "metadata": {},
   "outputs": [],
   "source": [
    "board = np.array([[2,4,4,8], [2,8,8,2], [2,8,16,32], [2,2,1024,1024]]) #matriz que contiene el estado del juego actual en ceros\n",
    "\n",
    "board_states = np.log2(np.maximum(board, 1)) / np.log2(2048)\n",
    "test = np.expand_dims(board_states, axis=-1)  # Add channel dimension for CNN"
   ]
  },
  {
   "cell_type": "code",
   "execution_count": 21,
   "metadata": {},
   "outputs": [
    {
     "name": "stdout",
     "output_type": "stream",
     "text": [
      "1/1 [==============================] - 0s 13ms/step\n",
      "mejor movimiento: down\n"
     ]
    }
   ],
   "source": [
    "board = np.array([[2,4,4,8], [2,8,8,2], [2,8,16,32], [2,2,1024,1024]]) #matriz que contiene el estado del juego actual en ceros\n",
    "board_states = np.log2(np.maximum(board, 1)) / np.log2(2048) #normaliza el estado del juego\n",
    "test = np.expand_dims(board_states, axis=-1) #agrega una dimension al estado del juego\n",
    "\n",
    "input_data = np.expand_dims(test, axis=0)  # Nueva dimension: (1, 4, 4, 1)\n",
    "\n",
    "predictions = model.predict(input_data) #obtiene las predicciones del modelo\n",
    "\n",
    "best_move = np.argmax(predictions) #obtiene el indice del mejor movimiento\n",
    "\n",
    "move_mapping_inverse = {0: 'up', 1: 'down', 2: 'left', 3: 'right'} #diccionario que mapea los movimientos a texto\n",
    "best_move_string = move_mapping_inverse[best_move] #obtiene el texto del mejor movimiento\n",
    "\n",
    "print(\"mejor movimiento:\", best_move_string) #imprime el mejor movimiento"
   ]
  },
  {
   "cell_type": "code",
   "execution_count": 22,
   "metadata": {},
   "outputs": [
    {
     "data": {
      "text/plain": [
       "array([[0.00141408, 0.5362267 , 0.00330086, 0.45905834]], dtype=float32)"
      ]
     },
     "execution_count": 22,
     "metadata": {},
     "output_type": "execute_result"
    }
   ],
   "source": [
    "predictions"
   ]
  },
  {
   "attachments": {},
   "cell_type": "markdown",
   "metadata": {},
   "source": [
    "### Guarda training data"
   ]
  },
  {
   "cell_type": "code",
   "execution_count": 35,
   "metadata": {},
   "outputs": [],
   "source": [
    "np.savez('2048_data.npz', tbl_tot, mov_tot, perf_tot) #guarda los datos del juego en un archivo .npz"
   ]
  },
  {
   "cell_type": "code",
   "execution_count": 43,
   "metadata": {},
   "outputs": [],
   "source": [
    "loaded_data = np.load('2048_data.npz')\n",
    "\n",
    "loaded_array_list = [loaded_data[key] for key in loaded_data]\n",
    "\n",
    "loaded_data.close()\n",
    "\n",
    "tbl_tot = loaded_array_list[0]\n",
    "mov_tot = loaded_array_list[1]\n",
    "perf_tot = loaded_array_list[2]"
   ]
  }
 ],
 "metadata": {
  "kernelspec": {
   "display_name": "base",
   "language": "python",
   "name": "python3"
  },
  "language_info": {
   "codemirror_mode": {
    "name": "ipython",
    "version": 3
   },
   "file_extension": ".py",
   "mimetype": "text/x-python",
   "name": "python",
   "nbconvert_exporter": "python",
   "pygments_lexer": "ipython3",
   "version": "3.10.9"
  },
  "orig_nbformat": 4
 },
 "nbformat": 4,
 "nbformat_minor": 2
}
