{
 "cells": [
  {
   "cell_type": "code",
   "execution_count": 192,
   "metadata": {},
   "outputs": [],
   "source": [
    "from selenium import webdriver\n",
    "from selenium.webdriver.common.keys import Keys\n",
    "from selenium.webdriver.common.by import By\n",
    "\n",
    "import random\n",
    "import numpy as np"
   ]
  },
  {
   "cell_type": "code",
   "execution_count": 106,
   "metadata": {},
   "outputs": [],
   "source": [
    "moves_converter = {\"\\ue012\": \"left\", \"\\ue013\": \"up\", \"\\ue014\": \"right\", \"\\ue015\": \"down\"}"
   ]
  },
  {
   "cell_type": "code",
   "execution_count": 201,
   "metadata": {},
   "outputs": [
    {
     "name": "stderr",
     "output_type": "stream",
     "text": [
      "/var/folders/2g/ct_05dv51vbb20ykfhzzwxxm0000gn/T/ipykernel_29134/725578524.py:2: DeprecationWarning: executable_path has been deprecated, please pass in a Service object\n",
      "  browser = webdriver.Chrome(executable_path=driver_path) #abre el navegador\n"
     ]
    }
   ],
   "source": [
    "driver_path = \"Users/davidesquer/Documents/chromedriverfolder/chromedrive\"  #\n",
    "browser = webdriver.Chrome(executable_path=driver_path) #abre el navegador\n",
    "browser.get(\"https://2048.io\") #abre el juego\n",
    "\n",
    "game_element = browser.find_element(By.TAG_NAME, \"body\") #elemento para mandar los movimientos\n",
    "\n",
    "# Define the possible moves\n",
    "moves = [Keys.UP, Keys.RIGHT, Keys.DOWN, Keys.LEFT] #lista de movimientos posibles\n",
    "\n",
    "score1 = browser.find_elements(By.XPATH, \"/html/body/div/div[1]/div/div[1]\") #elemento de score inicial\n",
    "si = score1[0].text #texto de score inicial\n",
    "si = si.split(\"\\n\")[0] #parsed score inicial\n",
    "\n",
    "juego_total = [] #lista de listas que contiene el estado del juego, el movimiento, el score inicial y el score final para el juego completo\n",
    "\n",
    "for i in range(200): #loop sobre el que se ejecuta el juego\n",
    "    l1 = [] #lista que contiene el estado del juego actual\n",
    "    tiles = browser.find_elements(By.CSS_SELECTOR, \".tile\") #estado del juego actual\n",
    "    for tile in tiles: #loop sobre el estado del juego actual\n",
    "        l1.append(tile.get_attribute(\"class\").split()) #agrega el estado del juego actual a la lista l1\n",
    "        \n",
    "    board = np.array([[0,0,0,0], [0,0,0,0], [0,0,0,0], [0,0,0,0]])\n",
    "    for i in range(len(l1)):\n",
    "        value = int(l1[i][1].split(\"-\")[1])\n",
    "\n",
    "        col = int(l1[i][2].split(\"-\")[2])-1\n",
    "        row = int(l1[i][2].split(\"-\")[3])-1\n",
    "\n",
    "        if board[row][col] < value:\n",
    "            board[row][col] = value\n",
    "    \n",
    "    elements = browser.find_elements(By.CSS_SELECTOR, \".game-message\") #elemento de mensaje de juego\n",
    "    elements[0].text #texto de mensaje de juego\n",
    "\n",
    "    if elements[0].text == \"Game over!\\nTry again\": #si el juego termina, se rompe el loop\n",
    "        break\n",
    "    else:\n",
    "        move = random.choice(moves) #elige un movimiento al azar\n",
    "        game_element.send_keys(move) #ejecuta el movimiento elegido\n",
    "    \n",
    "    score = browser.find_elements(By.XPATH, \"/html/body/div/div[1]/div/div[1]\") #elemento de score final\n",
    "    sf = score[0].text #texto de score final\n",
    "    sf = sf.split(\"\\n\")[0] #parsed score final\n",
    "    \n",
    "    lista = [board, move, si, sf] #lista que contiene el estado del juego, el movimiento, el score inicial y el score final para el juego actual\n",
    "    lista[1] = moves_converter[lista[1]] #convierte el movimiento a texto\n",
    "    si = sf #actualiza el score inicial para el siguiente juego\n",
    "    juego_total.append(lista) #agrega la lista del juego actual a la lista del juego completo"
   ]
  }
 ],
 "metadata": {
  "kernelspec": {
   "display_name": "base",
   "language": "python",
   "name": "python3"
  },
  "language_info": {
   "codemirror_mode": {
    "name": "ipython",
    "version": 3
   },
   "file_extension": ".py",
   "mimetype": "text/x-python",
   "name": "python",
   "nbconvert_exporter": "python",
   "pygments_lexer": "ipython3",
   "version": "3.9.12"
  },
  "orig_nbformat": 4
 },
 "nbformat": 4,
 "nbformat_minor": 2
}
